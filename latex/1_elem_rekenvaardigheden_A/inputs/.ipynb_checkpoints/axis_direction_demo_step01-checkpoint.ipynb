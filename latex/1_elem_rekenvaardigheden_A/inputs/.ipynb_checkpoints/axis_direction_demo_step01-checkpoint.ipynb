{
 "cells": [
  {
   "cell_type": "code",
   "execution_count": 2,
   "metadata": {},
   "outputs": [],
   "source": [
    "%matplotlib inline"
   ]
  },
  {
   "cell_type": "markdown",
   "metadata": {},
   "source": [
    "\n",
    "# Axis Direction Demo Step01\n",
    "\n",
    "\n",
    "\n"
   ]
  },
  {
   "cell_type": "code",
   "execution_count": 3,
   "metadata": {},
   "outputs": [
    {
     "data": {
      "image/png": "[encoded data removed]",
      "text/plain": [
       "<Figure size 216x180 with 1 Axes>"
      ]
     },
     "metadata": {
      "needs_background": "light"
     },
     "output_type": "display_data"
    }
   ],
   "source": [
    "import matplotlib.pyplot as plt\n",
    "import mpl_toolkits.axisartist as axisartist\n",
    "\n",
    "\n",
    "def setup_axes(fig, rect):\n",
    "    ax = axisartist.Subplot(fig, rect)\n",
    "    fig.add_axes(ax)\n",
    "\n",
    "    ax.set_ylim(-0.1, 1.5)\n",
    "    ax.set_yticks([0, 1])\n",
    "\n",
    "    ax.axis[:].set_visible(False)\n",
    "\n",
    "    ax.axis[\"x\"] = ax.new_floating_axis(1, 0.5)\n",
    "    ax.axis[\"x\"].set_axisline_style(\"->\", size=1.5)\n",
    "\n",
    "    return ax\n",
    "\n",
    "\n",
    "fig = plt.figure(figsize=(3, 2.5))\n",
    "fig.subplots_adjust(top=0.8)\n",
    "ax1 = setup_axes(fig, \"111\")\n",
    "\n",
    "ax1.axis[\"x\"].set_axis_direction(\"left\")\n",
    "\n",
    "plt.show()"
   ]
  },
  {
   "cell_type": "code",
   "execution_count": null,
   "metadata": {},
   "outputs": [],
   "source": []
  }
 ],
 "metadata": {
  "kernelspec": {
   "display_name": "Python 3",
   "language": "python",
   "name": "python3"
  },
  "language_info": {
   "codemirror_mode": {
    "name": "ipython",
    "version": 3
   },
   "file_extension": ".py",
   "mimetype": "text/x-python",
   "name": "python",
   "nbconvert_exporter": "python",
   "pygments_lexer": "ipython3",
   "version": "3.7.3"
  }
 },
 "nbformat": 4,
 "nbformat_minor": 1
}
